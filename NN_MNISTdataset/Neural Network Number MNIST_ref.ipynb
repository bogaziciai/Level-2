{
 "cells": [
  {
   "cell_type": "code",
   "execution_count": 15,
   "metadata": {},
   "outputs": [],
   "source": [
    "import torch as t\n",
    "import torchvision.datasets as datasets \n",
    "import torchvision.transforms as transforms\n",
    "import torch.nn as nn\n",
    "import matplotlib.pyplot as plt\n",
    "import time\n",
    "from numpy import argmax\n"
   ]
  },
  {
   "cell_type": "code",
   "execution_count": 9,
   "metadata": {},
   "outputs": [],
   "source": [
    "class Net(nn.Module):\n",
    "    def __init__(self):\n",
    "        super(Net,self).__init__()\n",
    "        self.linear1 = nn.Linear(28*28, 100) \n",
    "        self.linear2 = nn.Linear(100, 50) \n",
    "        self.final = nn.Linear(50, 10)\n",
    "        self.relu = nn.ReLU()\n",
    "\n",
    "    def forward(self, img): #convert + flatten\n",
    "        x = img.view(-1, 28*28)\n",
    "        x = self.relu(self.linear1(x))\n",
    "        x = self.relu(self.linear2(x))\n",
    "        x = self.final(x)\n",
    "        return x\n"
   ]
  },
  {
   "cell_type": "code",
   "execution_count": 10,
   "metadata": {},
   "outputs": [],
   "source": [
    "def TakesamplesfromNthBatch(loader,N,model):\n",
    "    \n",
    "    inputsout=[]\n",
    "    labelsout=[]\n",
    "    \n",
    "    for i,data in enumerate(train_loader):\n",
    "        inputs, labels = data\n",
    "        inputsout=inputs.squeeze().numpy()\n",
    "        labelsout=labels.numpy()   \n",
    "        \n",
    "           \n",
    "        #inputsout.append(inputs.numpy())\n",
    "        #labelsout.append(labels.numpy())    \n",
    "        if i==N:\n",
    "            prediction = model(inputs.view(-1, 784))\n",
    "            predictionout = argmax(prediction.detach().numpy(),axis=1) \n",
    "            break\n",
    "\n",
    "    return inputsout,labelsout,predictionout"
   ]
  },
  {
   "cell_type": "code",
   "execution_count": 11,
   "metadata": {},
   "outputs": [],
   "source": [
    "transform = transforms.Compose([transforms.ToTensor(), transforms.Normalize((0.5,), (0.5,)),])\n",
    "\n",
    "mnist_trainset = datasets.MNIST(root='./data', train=True, download=True, transform=transform)\n",
    "train_loader = t.utils.data.DataLoader(mnist_trainset, batch_size=10, shuffle=True)\n",
    "\n",
    "mnist_testset = datasets.MNIST(root='./data', train=False, download=True, transform=transform)\n",
    "test_loader = t.utils.data.DataLoader(mnist_testset, batch_size=10, shuffle=True)"
   ]
  },
  {
   "cell_type": "code",
   "execution_count": 12,
   "metadata": {},
   "outputs": [
    {
     "name": "stdout",
     "output_type": "stream",
     "text": [
      "[1,   500] loss: 0.85992\n",
      "[1,  1000] loss: 0.41673\n",
      "[1,  1500] loss: 0.34938\n",
      "[1,  2000] loss: 0.35256\n",
      "[1,  2500] loss: 0.31467\n",
      "[1,  3000] loss: 0.27026\n",
      "[1,  3500] loss: 0.29834\n",
      "[1,  4000] loss: 0.23951\n",
      "[1,  4500] loss: 0.23269\n",
      "[1,  5000] loss: 0.21046\n",
      "[1,  5500] loss: 0.22365\n",
      "[1,  6000] loss: 0.21121\n",
      "for this epoch time passed: 17.866270780563354\n",
      "[2,   500] loss: 0.20657\n",
      "[2,  1000] loss: 0.17374\n",
      "[2,  1500] loss: 0.18474\n",
      "[2,  2000] loss: 0.17339\n",
      "[2,  2500] loss: 0.18039\n",
      "[2,  3000] loss: 0.18248\n",
      "[2,  3500] loss: 0.18301\n",
      "[2,  4000] loss: 0.14946\n",
      "[2,  4500] loss: 0.15969\n",
      "[2,  5000] loss: 0.16772\n",
      "[2,  5500] loss: 0.16444\n",
      "[2,  6000] loss: 0.15881\n",
      "for this epoch time passed: 18.32301616668701\n",
      "[3,   500] loss: 0.14392\n",
      "[3,  1000] loss: 0.15231\n",
      "[3,  1500] loss: 0.15181\n",
      "[3,  2000] loss: 0.13223\n",
      "[3,  2500] loss: 0.13555\n",
      "[3,  3000] loss: 0.14819\n",
      "[3,  3500] loss: 0.12279\n",
      "[3,  4000] loss: 0.13133\n",
      "[3,  4500] loss: 0.13020\n",
      "[3,  5000] loss: 0.14151\n",
      "[3,  5500] loss: 0.13248\n",
      "[3,  6000] loss: 0.13996\n",
      "for this epoch time passed: 18.290003538131714\n",
      "[4,   500] loss: 0.10691\n",
      "[4,  1000] loss: 0.10849\n",
      "[4,  1500] loss: 0.11485\n",
      "[4,  2000] loss: 0.13649\n",
      "[4,  2500] loss: 0.12454\n",
      "[4,  3000] loss: 0.13076\n",
      "[4,  3500] loss: 0.13396\n",
      "[4,  4000] loss: 0.13473\n",
      "[4,  4500] loss: 0.12910\n",
      "[4,  5000] loss: 0.12721\n",
      "[4,  5500] loss: 0.11289\n",
      "[4,  6000] loss: 0.11995\n",
      "for this epoch time passed: 18.354962825775146\n",
      "[5,   500] loss: 0.10087\n",
      "[5,  1000] loss: 0.09819\n",
      "[5,  1500] loss: 0.11100\n",
      "[5,  2000] loss: 0.11319\n",
      "[5,  2500] loss: 0.11041\n",
      "[5,  3000] loss: 0.10204\n",
      "[5,  3500] loss: 0.10778\n",
      "[5,  4000] loss: 0.12941\n",
      "[5,  4500] loss: 0.11813\n",
      "[5,  5000] loss: 0.11222\n",
      "[5,  5500] loss: 0.12321\n",
      "[5,  6000] loss: 0.11300\n",
      "for this epoch time passed: 18.60399341583252\n",
      "[6,   500] loss: 0.08727\n",
      "[6,  1000] loss: 0.09418\n",
      "[6,  1500] loss: 0.11099\n",
      "[6,  2000] loss: 0.09503\n",
      "[6,  2500] loss: 0.08283\n",
      "[6,  3000] loss: 0.11062\n",
      "[6,  3500] loss: 0.08434\n",
      "[6,  4000] loss: 0.11287\n",
      "[6,  4500] loss: 0.10312\n",
      "[6,  5000] loss: 0.08883\n",
      "[6,  5500] loss: 0.11919\n",
      "[6,  6000] loss: 0.10984\n",
      "for this epoch time passed: 18.722026824951172\n",
      "[7,   500] loss: 0.09100\n",
      "[7,  1000] loss: 0.08340\n",
      "[7,  1500] loss: 0.10312\n",
      "[7,  2000] loss: 0.07233\n",
      "[7,  2500] loss: 0.09388\n",
      "[7,  3000] loss: 0.09362\n",
      "[7,  3500] loss: 0.09939\n",
      "[7,  4000] loss: 0.09315\n",
      "[7,  4500] loss: 0.09576\n",
      "[7,  5000] loss: 0.09255\n",
      "[7,  5500] loss: 0.08599\n",
      "[7,  6000] loss: 0.10218\n",
      "for this epoch time passed: 18.623024702072144\n",
      "[8,   500] loss: 0.06949\n",
      "[8,  1000] loss: 0.08433\n",
      "[8,  1500] loss: 0.08121\n",
      "[8,  2000] loss: 0.09378\n",
      "[8,  2500] loss: 0.08501\n",
      "[8,  3000] loss: 0.10126\n",
      "[8,  3500] loss: 0.08083\n",
      "[8,  4000] loss: 0.09155\n",
      "[8,  4500] loss: 0.08629\n",
      "[8,  5000] loss: 0.09039\n",
      "[8,  5500] loss: 0.08223\n",
      "[8,  6000] loss: 0.09133\n",
      "for this epoch time passed: 18.924044609069824\n",
      "[9,   500] loss: 0.08215\n",
      "[9,  1000] loss: 0.07738\n",
      "[9,  1500] loss: 0.08612\n",
      "[9,  2000] loss: 0.07261\n",
      "[9,  2500] loss: 0.08903\n",
      "[9,  3000] loss: 0.08180\n",
      "[9,  3500] loss: 0.07315\n",
      "[9,  4000] loss: 0.07622\n",
      "[9,  4500] loss: 0.09876\n",
      "[9,  5000] loss: 0.07333\n",
      "[9,  5500] loss: 0.09110\n",
      "[9,  6000] loss: 0.10447\n",
      "for this epoch time passed: 20.041889667510986\n",
      "[10,   500] loss: 0.06067\n",
      "[10,  1000] loss: 0.06399\n",
      "[10,  1500] loss: 0.06498\n",
      "[10,  2000] loss: 0.07659\n",
      "[10,  2500] loss: 0.08392\n",
      "[10,  3000] loss: 0.09102\n",
      "[10,  3500] loss: 0.06821\n",
      "[10,  4000] loss: 0.08377\n",
      "[10,  4500] loss: 0.07815\n",
      "[10,  5000] loss: 0.08568\n",
      "[10,  5500] loss: 0.07969\n",
      "[10,  6000] loss: 0.09339\n",
      "for this epoch time passed: 21.3520245552063\n",
      "Finished Training\n"
     ]
    }
   ],
   "source": [
    "model=Net()\n",
    "\n",
    "cross_el = nn.CrossEntropyLoss()\n",
    "optimizer = t.optim.Adam(model.parameters(), lr=0.001) #e-1\n",
    "epoch = 10\n",
    "\n",
    "for epoch in range(epoch):\n",
    "    running_loss = 0.0\n",
    "    start = time.time() #record run TIME\n",
    "    \n",
    "    for i,data in enumerate(train_loader):\n",
    "        inputs, labels = data\n",
    "        optimizer.zero_grad()\n",
    "        output = model(inputs.view(-1, 28*28))\n",
    "        loss = cross_el(output, labels)\n",
    "        loss.backward()\n",
    "        optimizer.step()\n",
    "        \n",
    "        running_loss += loss.item()\n",
    "        if i % 500 == 499:    # print every 2000 mini-batches\n",
    "            print('[%d, %5d] loss: %.5f' %\n",
    "            (epoch + 1, i + 1, running_loss / 500))\n",
    "            running_loss = 0.0\n",
    "    end=time.time()\n",
    "    print(\"for this epoch time passed:\", end-start)\n",
    "        \n",
    "print('Finished Training')        "
   ]
  },
  {
   "cell_type": "code",
   "execution_count": 13,
   "metadata": {},
   "outputs": [
    {
     "name": "stdout",
     "output_type": "stream",
     "text": [
      "accuracy: 0.964\n"
     ]
    }
   ],
   "source": [
    "correct =0\n",
    "total=0\n",
    "\n",
    "with t.no_grad():\n",
    "    for data in test_loader:\n",
    "        inputs, labels = data\n",
    "        output = model(inputs.view(-1, 784))\n",
    "        for idx, i in enumerate(output):\n",
    "            if t.argmax(i) == labels[idx]:\n",
    "                correct +=1\n",
    "            total +=1\n",
    "print(f'accuracy: {round(correct/total, 3)}')"
   ]
  },
  {
   "cell_type": "code",
   "execution_count": 16,
   "metadata": {},
   "outputs": [
    {
     "name": "stdout",
     "output_type": "stream",
     "text": [
      "True Label = 5 \n",
      "True Label = 1 \n",
      "True Label = 7 \n",
      "True Label = 0 \n",
      "True Label = 7 \n"
     ]
    },
    {
     "data": {
      "image/png": "[encoded data removed]",
      "text/plain": [
       "<Figure size 432x288 with 1 Axes>"
      ]
     },
     "metadata": {
      "needs_background": "light"
     },
     "output_type": "display_data"
    },
    {
     "data": {
      "image/png": "[encoded data removed]",
      "text/plain": [
       "<Figure size 432x288 with 1 Axes>"
      ]
     },
     "metadata": {
      "needs_background": "light"
     },
     "output_type": "display_data"
    },
    {
     "data": {
      "image/png": "[encoded data removed]",
      "text/plain": [
       "<Figure size 432x288 with 1 Axes>"
      ]
     },
     "metadata": {
      "needs_background": "light"
     },
     "output_type": "display_data"
    },
    {
     "data": {
      "image/png": "[encoded data removed]",
      "text/plain": [
       "<Figure size 432x288 with 1 Axes>"
      ]
     },
     "metadata": {
      "needs_background": "light"
     },
     "output_type": "display_data"
    },
    {
     "data": {
      "image/png": "[encoded data removed]",
      "text/plain": [
       "<Figure size 432x288 with 1 Axes>"
      ]
     },
     "metadata": {
      "needs_background": "light"
     },
     "output_type": "display_data"
    }
   ],
   "source": [
    "#Get some training or test data samples to visualize the predictions.\n",
    "\n",
    "trial_input,trial_labels,trial_prediction = TakesamplesfromNthBatch(train_loader,1,model)\n",
    "\n",
    "\n",
    "numberIntheBatch=0 # should be less than batch_size used in loader.\n",
    "Nofexamples=5\n",
    "for i in range(Nofexamples):    \n",
    "    \n",
    "    plt.figure()\n",
    "    imgplot = plt.imshow(trial_input[numberIntheBatch])\n",
    "    plt.title(' NN prediction = %i'  %trial_prediction[numberIntheBatch])\n",
    "    print('True Label = %i ' %trial_labels[numberIntheBatch])\n",
    "    # plt.set_xlabel('NN predicts it as = %i' %argmax(trial_prediction[numberIntheBatch]))\n",
    "    numberIntheBatch=numberIntheBatch+1 # should be less than batch_size used in loader.\n",
    "\n"
   ]
  },
  {
   "cell_type": "code",
   "execution_count": null,
   "metadata": {},
   "outputs": [],
   "source": [
    "PATH = './AllModelSave.pkl'\n",
    "t.save(model, PATH)\n",
    "\n",
    "modelloaded=t.load(PATH)"
   ]
  }
 ],
 "metadata": {
  "kernelspec": {
   "display_name": "Python 3",
   "language": "python",
   "name": "python3"
  },
  "language_info": {
   "codemirror_mode": {
    "name": "ipython",
    "version": 3
   },
   "file_extension": ".py",
   "mimetype": "text/x-python",
   "name": "python",
   "nbconvert_exporter": "python",
   "pygments_lexer": "ipython3",
   "version": "3.8.5"
  }
 },
 "nbformat": 4,
 "nbformat_minor": 4
}
